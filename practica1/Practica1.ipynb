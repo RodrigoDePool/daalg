{
 "cells": [
  {
   "cell_type": "markdown",
   "metadata": {},
   "source": [
    "# Práctica 1\n",
    "---"
   ]
  },
  {
   "cell_type": "code",
   "execution_count": 1,
   "metadata": {},
   "outputs": [],
   "source": [
    "%matplotlib inline\n",
    "%load_ext autoreload\n",
    "%autoreload 2"
   ]
  },
  {
   "cell_type": "code",
   "execution_count": 2,
   "metadata": {},
   "outputs": [],
   "source": [
    "import sys\n",
    "import time\n",
    "import matplotlib.pyplot as plt\n",
    "import random\n",
    "import numpy as np\n",
    "import pickle\n",
    "import gzip\n",
    "import os\n",
    "from time import time\n",
    "\n",
    "from sklearn.linear_model import LinearRegression\n",
    "\n",
    "import networkx as nx"
   ]
  },
  {
   "cell_type": "markdown",
   "metadata": {},
   "source": [
    "## Generación y guardado de grafos\n",
    "---"
   ]
  },
  {
   "cell_type": "code",
   "execution_count": 3,
   "metadata": {},
   "outputs": [],
   "source": [
    "def rand_matr_pos_graph(n_nodes, sparse_factor, max_weight=50, decimals=0):\n",
    "    graph = [[np.inf for i in range(0,n_nodes)] for j in range(0,n_nodes)]\n",
    "    for i in range(0,n_nodes):\n",
    "        for j in range(0,n_nodes):\n",
    "            if i!=j and random.random()<=sparse_factor:\n",
    "                graph[i][j] = random.randint(1,max_weight)\n",
    "    return graph\n",
    "\n",
    "\n",
    "def cuenta_ramas(m_g):\n",
    "    l=0\n",
    "    for i in range(0, len(m_g)):\n",
    "        for j in range(0, len(m_g)):\n",
    "            if m_g[i][j]<float('inf'):\n",
    "                l += 1\n",
    "    return l\n",
    "\n",
    "\n",
    "def calculate_sparse_factor(g):\n",
    "    return (cuenta_ramas(g))/(len(g)*(len(g)-1.0))\n",
    "\n",
    "\n",
    "def check_sparse_factor(n_grafos, n_nodes, sparse_factor):\n",
    "    values = [calculate_sparse_factor(rand_matr_pos_graph(n_nodes,sparse_factor)) for i in range(0, n_grafos)]\n",
    "    return sum(values)/(n_grafos)"
   ]
  },
  {
   "cell_type": "code",
   "execution_count": 4,
   "metadata": {},
   "outputs": [
    {
     "data": {
      "text/plain": [
       "0.8461842105263159"
      ]
     },
     "execution_count": 4,
     "metadata": {},
     "output_type": "execute_result"
    }
   ],
   "source": [
    "check_sparse_factor(20, 20, 0.85)"
   ]
  },
  {
   "cell_type": "code",
   "execution_count": 5,
   "metadata": {},
   "outputs": [],
   "source": [
    "def m_g_2_d_g(m_g):\n",
    "    graph = {}\n",
    "    for i in range(0,len(m_g)):\n",
    "        graph[i] = {}\n",
    "        for j in range(0, len(m_g)):\n",
    "            if m_g[i][j] < np.inf:\n",
    "                graph[i][j] = m_g[i][j]\n",
    "    return graph\n",
    "\n",
    "\n",
    "def d_g_2_m_g(d_g):\n",
    "    graph = [[np.inf for i in range(0,len(d_g))] for j in range(0,len(d_g))]\n",
    "    for v1 in d_g:\n",
    "        for v2 in d_g[v1]:\n",
    "            graph[v1][v2] = d_g[v1][v2]\n",
    "    return graph"
   ]
  },
  {
   "cell_type": "code",
   "execution_count": 6,
   "metadata": {},
   "outputs": [],
   "source": [
    "def save_object(obj, f_name='obj.pklz', save_path='.'):\n",
    "    complete_name = os.path.join(save_path, f_name)\n",
    "    with gzip.open(complete_name,'wb') as f:\n",
    "        pickle.dump(obj,f)\n",
    "        \n",
    "def read_object(f_name, save_path='.'):\n",
    "    complete_name = os.path.join(save_path, f_name)\n",
    "    obj = None\n",
    "    with gzip.open(complete_name) as f:\n",
    "        obj = pickle.load(f)\n",
    "    return obj"
   ]
  },
  {
   "cell_type": "code",
   "execution_count": 7,
   "metadata": {},
   "outputs": [],
   "source": [
    "# Trivial Graph Format (TGF)\n",
    "def d_g_2_TGF(d_g, f_name):\n",
    "    out = ''\n",
    "    for v1 in d_g:\n",
    "        out += str(v1)+'\\n'\n",
    "    out += '#\\n'\n",
    "    for v1 in d_g:\n",
    "        for v2 in d_g[v1]:\n",
    "            out += str(v1)+' '+str(v2)+' '+str(d_g[v1][v2])+'\\n'\n",
    "    with open(f_name,'w') as f:\n",
    "        f.write(out)        \n",
    "        \n",
    "\n",
    "def TGF_2_d_g(f_name):\n",
    "    with open(f_name) as f:\n",
    "        tgf = f.read()\n",
    "    nodes, edges = tgf.split('#\\n')\n",
    "    nodes = nodes.split('\\n')[:-1] # Last is empty\n",
    "    edges = list(map(lambda x: x.split(' '), edges.split('\\n')[:-1]))\n",
    "    graph = {}\n",
    "    for node in nodes:\n",
    "        graph[int(node)] = {}\n",
    "    for v1, v2, weight in edges:\n",
    "        graph[int(v1)][int(v2)] = float(weight)\n",
    "    return graph"
   ]
  },
  {
   "cell_type": "markdown",
   "metadata": {},
   "source": [
    "## Distancias mínimas en grafos\n",
    "---"
   ]
  },
  {
   "cell_type": "code",
   "execution_count": 8,
   "metadata": {},
   "outputs": [],
   "source": [
    "# DIJKSTRA!\n",
    "from queue import PriorityQueue\n",
    "\n",
    "def dijkstra_d(d_g, u):\n",
    "    dist = {}\n",
    "    prev = {}\n",
    "    visited = {}\n",
    "    for ele in d_g:\n",
    "        dist[ele] = np.inf\n",
    "        prev[ele] = -1\n",
    "        visited[ele] = False\n",
    "    q = PriorityQueue()\n",
    "    dist[u] = 0\n",
    "    q.put((0, u))\n",
    "    while not q.empty():\n",
    "        w, curr = q.get()\n",
    "        if not visited[curr]:\n",
    "            visited[curr] = True\n",
    "            for node in d_g[curr]:\n",
    "                if d_g[curr][node]+w < dist[node]:\n",
    "                    dist[node] = d_g[curr][node]+w\n",
    "                    prev[node] = curr\n",
    "                    q.put((dist[node], node))\n",
    "    return dist, prev\n",
    "    \n",
    "    \n",
    "def dijkstra_m(m_g, u):\n",
    "    dist = {}\n",
    "    prev = {}\n",
    "    visited = {}\n",
    "    for ele in range(len(m_g)):\n",
    "        dist[ele] = np.inf\n",
    "        prev[ele] = -1\n",
    "        visited[ele] = False\n",
    "    q = PriorityQueue()\n",
    "    dist[u] = 0\n",
    "    q.put((0, u))\n",
    "    while not q.empty():\n",
    "        w, curr = q.get()\n",
    "        if not visited[curr]:\n",
    "            visited[curr] = True\n",
    "            for node in range(len(m_g[curr])):\n",
    "                if m_g[curr][node]+w < dist[node]:\n",
    "                    dist[node] = m_g[curr][node]+w\n",
    "                    prev[node] = curr\n",
    "                    q.put((dist[node], node))\n",
    "    return dist, prev\n",
    "\n",
    "\n",
    "def min_path(d_prev, v):\n",
    "    if d_prev[v]<0:\n",
    "        return [] # There is no path\n",
    "    path = [v]\n",
    "    while d_prev[v]>=0:\n",
    "        v = d_prev[v]\n",
    "        path.append(v)\n",
    "    path.reverse()\n",
    "    return path    \n",
    "    \n",
    "def min_paths(d_prev):\n",
    "    d_path = {}\n",
    "    for ele in d_prev:\n",
    "        d_path[ele] = min_path(d_prev, ele)\n",
    "    return d_path"
   ]
  },
  {
   "cell_type": "code",
   "execution_count": 9,
   "metadata": {},
   "outputs": [],
   "source": [
    "\n",
    "\n",
    "def time_dijkstra(n_graphs, n_nodes_ini, n_nodes_fin, step, generate, dijks, sparse_factor=.25):\n",
    "    times = [] # Returning list\n",
    "    for nodes in range(n_nodes_ini, n_nodes_fin+1, step):\n",
    "        meanTime = 0\n",
    "        for _ in range(n_graphs):\n",
    "            graph = generate(nodes, sparse_factor) \n",
    "            time_ini = time()\n",
    "            for i in range(nodes):\n",
    "                dijks(graph,i)\n",
    "            meanTime += (time()-time_ini)\n",
    "        times.append(meanTime/n_graphs) # No dividimos por n_nodes porque la aproximación de fit_plot lo toma en cuenta\n",
    "    return times\n",
    "    \n",
    "    \n",
    "def time_dijkstra_m(n_graphs, n_nodes_ini, n_nodes_fin, step, sparse_factor=.25):\n",
    "    return time_dijkstra(n_graphs, n_nodes_ini, n_nodes_fin, step, rand_matr_pos_graph, dijkstra_m, sparse_factor=sparse_factor)\n",
    "    \n",
    "    \n",
    "def time_dijkstra_d(n_graphs, n_nodes_ini, n_nodes_fin, step, sparse_factor=.25):\n",
    "    f = lambda x,y: m_g_2_d_g(rand_matr_pos_graph(x,y))\n",
    "    return time_dijkstra(n_graphs, n_nodes_ini, n_nodes_fin, step, f, dijkstra_d, sparse_factor=sparse_factor)\n"
   ]
  },
  {
   "cell_type": "code",
   "execution_count": 10,
   "metadata": {},
   "outputs": [],
   "source": [
    "## FUNCIONES DEL CUADERNO AUXILIAR (ligeramente modificadas para hacerlas más generales)\n",
    "def fit_plot(l, func_2_fit, size_ini, size_fin, step, label=None, rho=False, xlabel=None, ylabel=None):\n",
    "    if not rho:\n",
    "        x_vals = [i for i in range(size_ini, size_fin+1, step)]\n",
    "        l_func_values =[i*func_2_fit(i) for i in range(size_ini, size_fin+1, step)]\n",
    "    else:\n",
    "        # Para el fitting del rho que requiere de iteración con floats\n",
    "        # Nota: No  multiplicamos por el número de nodos porque en este caso es cte\n",
    "        l_func_values =[]\n",
    "        x_vals = []\n",
    "        i=size_ini\n",
    "        while i<=size_fin:\n",
    "            x_vals.append(i)\n",
    "            l_func_values.append(func_2_fit(i))\n",
    "            i += step\n",
    "        \n",
    "    lr_m = LinearRegression()\n",
    "    X = np.array(l_func_values).reshape( len(l_func_values), -1 )\n",
    "    lr_m.fit(X, l)\n",
    "    y_pred = lr_m.predict(X)\n",
    "    \n",
    "    if label:\n",
    "        plt.plot(x_vals, l, '*', x_vals, y_pred, '-',label=label)\n",
    "    else:\n",
    "        plt.plot(x_vals, l, '*', x_vals, y_pred, '-',label=label)\n",
    "    if xlabel:\n",
    "        plt.xlabel(xlabel)\n",
    "    if ylabel:\n",
    "        plt.ylabel(ylabel)\n",
    "    \n",
    "\n",
    "def n2_log_n(n):\n",
    "    return n**2. * np.log(n)\n",
    "\n",
    "\n",
    "def print_m_g(m_g):\n",
    "    print(\"graph_from_matrix:\\n\")\n",
    "    n_v = m_g.shape[0]\n",
    "    for u in range(n_v):\n",
    "        for v in range(n_v):\n",
    "            if v != u and m_g[u, v] != np.inf:\n",
    "                print(\"(\", u, v, \")\", m_g[u, v])\n",
    "                \n",
    "                \n",
    "def print_d_g(d_g):\n",
    "    print(\"\\ngraph_from_dict:\\n\")\n",
    "    for u in d_g.keys():\n",
    "        for v in d_g[u].keys():\n",
    "            print(\"(\", u, v, \")\", d_g[u][v])"
   ]
  },
  {
   "cell_type": "code",
   "execution_count": 11,
   "metadata": {},
   "outputs": [],
   "source": [
    "args = [8,10,200,10]"
   ]
  },
  {
   "cell_type": "code",
   "execution_count": 12,
   "metadata": {},
   "outputs": [],
   "source": [
    "x = [x for x in range(args[1],args[2]+1,args[3])]\n",
    "y = time_dijkstra_m(*args,sparse_factor=0.9)\n",
    "y2 = time_dijkstra_d(*args,sparse_factor=0.9)"
   ]
  },
  {
   "cell_type": "code",
   "execution_count": 13,
   "metadata": {},
   "outputs": [
    {
     "name": "stdout",
     "output_type": "stream",
     "text": [
      "Comprobación del crecimiento del algoritmo de Dijkstra\n"
     ]
    },
    {
     "data": {
      "image/png": "[encoded data removed]",
      "text/plain": [
       "<Figure size 432x288 with 1 Axes>"
      ]
     },
     "metadata": {
      "needs_background": "light"
     },
     "output_type": "display_data"
    }
   ],
   "source": [
    "# Plot fitted\n",
    "fit_plot(y, n2_log_n, *args[1:],label='Matrix', xlabel='Nodos', ylabel='Segundos')\n",
    "fit_plot(y2, n2_log_n, *args[1:],label='Dict', xlabel='Nodos', ylabel='Segundos')\n",
    "plt.legend(loc='upper left')\n",
    "print('Comprobación del crecimiento del algoritmo de Dijkstra')"
   ]
  },
  {
   "cell_type": "markdown",
   "metadata": {},
   "source": [
    "## Librería NetworkX\n",
    "---"
   ]
  },
  {
   "cell_type": "code",
   "execution_count": 14,
   "metadata": {},
   "outputs": [],
   "source": [
    "def edges(d_g):\n",
    "    e = []\n",
    "    for u in d_g:\n",
    "        for v in d_g[u]:\n",
    "            e.append((u,v,d_g[u][v]))\n",
    "    return e\n",
    "\n",
    "\n",
    "def d_g_2_nx_g(d_g):\n",
    "    g = nx.DiGraph()\n",
    "    g.add_weighted_edges_from(edges(d_g))\n",
    "    return g\n",
    "\n",
    "def nx_g_2_d_g(nx_g):\n",
    "    d_g = {}\n",
    "    for u in nx_g:\n",
    "        d_g[u] = {}\n",
    "        for v in nx_g[u]:\n",
    "            d_g[u][v] = nx_g[u][v]['weight']"
   ]
  },
  {
   "cell_type": "code",
   "execution_count": 15,
   "metadata": {},
   "outputs": [],
   "source": [
    "def time_dijkstra_nx(n_graphs, n_nodes_ini, n_nodes_fin, step, sparse_factor=.25):    \n",
    "    f = lambda x,y: d_g_2_nx_g(m_g_2_d_g(rand_matr_pos_graph(x,y)))\n",
    "    return time_dijkstra(n_graphs, n_nodes_ini, n_nodes_fin, step, f, nx.single_source_dijkstra, sparse_factor=sparse_factor)\n"
   ]
  },
  {
   "cell_type": "code",
   "execution_count": 16,
   "metadata": {},
   "outputs": [],
   "source": [
    "ynx = time_dijkstra_nx(*args, sparse_factor=0.9)"
   ]
  },
  {
   "cell_type": "code",
   "execution_count": 17,
   "metadata": {},
   "outputs": [
    {
     "data": {
      "image/png": "[encoded data removed]",
      "text/plain": [
       "<Figure size 432x288 with 1 Axes>"
      ]
     },
     "metadata": {
      "needs_background": "light"
     },
     "output_type": "display_data"
    }
   ],
   "source": [
    "fit_plot(y, n2_log_n, *args[1:],label='Nx', xlabel='Nodos', ylabel='Segundos')\n"
   ]
  },
  {
   "cell_type": "markdown",
   "metadata": {},
   "source": [
    "### Apéndice\n",
    "---\n",
    "Crecimiento de Dijkstra iterando sobre el _sparse factor_"
   ]
  },
  {
   "cell_type": "code",
   "execution_count": 18,
   "metadata": {},
   "outputs": [],
   "source": [
    "def time_dijks_rho(rho_ini,rho_fin, step, dijks, generate,n_nodes=100, n_graphs=30, for_all_nodes=True):\n",
    "    if for_all_nodes: \n",
    "        # Iterate Dijkstra for all nodes\n",
    "        iters = n_nodes\n",
    "    else:\n",
    "        # Only dijkstra from 0\n",
    "        iters = 1\n",
    "    times = []\n",
    "    rho = rho_ini\n",
    "    while rho <= rho_fin:\n",
    "        mean_time = 0\n",
    "        for _ in range(n_graphs):\n",
    "            g = generate(n_nodes, rho)\n",
    "            time_ini = time()\n",
    "            for i in range(n_nodes):\n",
    "                try:\n",
    "                    dijks(g,i)\n",
    "                except:\n",
    "                    pass # If no path is found, just continue with next node\n",
    "            mean_time += (time()-time_ini)\n",
    "        times.append(mean_time/n_graphs)\n",
    "        rho += step\n",
    "    return times"
   ]
  },
  {
   "cell_type": "code",
   "execution_count": 19,
   "metadata": {},
   "outputs": [],
   "source": [
    "ini = 0.1\n",
    "fin = 0.9\n",
    "step = 0.2\n",
    "# Fit a line\n",
    "f = lambda x: x\n",
    "# For adj lists\n",
    "dijks = lambda g,i: dijkstra_d(g,i)\n",
    "generate = lambda n_nodes, sparse_factor: m_g_2_d_g(rand_matr_pos_graph(n_nodes=n_nodes, sparse_factor=sparse_factor))\n",
    "times_d = time_dijks_rho(ini,fin,step, dijks, generate)\n",
    "# For Nx Library with no iteration\n",
    "dijks = lambda g,i: nx.single_source_dijkstra(g,i)\n",
    "generate = lambda x,y: d_g_2_nx_g(m_g_2_d_g(rand_matr_pos_graph(x,y)))\n",
    "times_nx = time_dijks_rho(ini,fin,step, dijks, generate, for_all_nodes=False)\n",
    "# With iteration\n",
    "times_nx_iter = time_dijks_rho(ini,fin,step, dijks, generate, n_nodes=25)\n",
    "\n"
   ]
  },
  {
   "cell_type": "code",
   "execution_count": 20,
   "metadata": {},
   "outputs": [
    {
     "name": "stdout",
     "output_type": "stream",
     "text": [
      "Lista de adyacencia con 100 nodos fijos desde todos los vértices\n"
     ]
    },
    {
     "data": {
      "image/png": "[encoded data removed]",
      "text/plain": [
       "<Figure size 432x288 with 1 Axes>"
      ]
     },
     "metadata": {
      "needs_background": "light"
     },
     "output_type": "display_data"
    }
   ],
   "source": [
    "print('Lista de adyacencia con 100 nodos fijos desde todos los vértices')\n",
    "fit_plot(times_d,func_2_fit=f,size_ini=ini,size_fin=fin,step=step,rho=True, xlabel='Rho', ylabel='Segundos')\n",
    "plt.savefig('2_2')\n",
    "\n"
   ]
  },
  {
   "cell_type": "code",
   "execution_count": 21,
   "metadata": {},
   "outputs": [
    {
     "name": "stdout",
     "output_type": "stream",
     "text": [
      "Nx con 100 nodos fijos, solo ejecutando Dijkstra una vez\n"
     ]
    },
    {
     "data": {
      "image/png": "[encoded data removed]",
      "text/plain": [
       "<Figure size 432x288 with 1 Axes>"
      ]
     },
     "metadata": {
      "needs_background": "light"
     },
     "output_type": "display_data"
    }
   ],
   "source": [
    "print('Nx con 100 nodos fijos, solo ejecutando Dijkstra una vez')\n",
    "fit_plot(times_nx,func_2_fit=f,size_ini=ini,size_fin=fin,step=step,rho=True, xlabel='Rho', ylabel='Segundos')\n",
    "plt.savefig('3_1')\n"
   ]
  },
  {
   "cell_type": "code",
   "execution_count": 22,
   "metadata": {},
   "outputs": [
    {
     "name": "stdout",
     "output_type": "stream",
     "text": [
      "Nx con 25 nodos fijos, ejecutando desde todo nodo\n"
     ]
    },
    {
     "data": {
      "image/png": "[encoded data removed]",
      "text/plain": [
       "<Figure size 432x288 with 1 Axes>"
      ]
     },
     "metadata": {
      "needs_background": "light"
     },
     "output_type": "display_data"
    }
   ],
   "source": [
    "print('Nx con 25 nodos fijos, ejecutando desde todo nodo')\n",
    "fit_plot(times_nx_iter,func_2_fit=f,size_ini=ini,size_fin=fin,step=step,rho=True, xlabel='Rho', ylabel='Segundos')\n",
    "plt.savefig('3_2')\n"
   ]
  }
 ],
 "metadata": {
  "kernelspec": {
   "display_name": "Python 3",
   "language": "python",
   "name": "python3"
  },
  "language_info": {
   "codemirror_mode": {
    "name": "ipython",
    "version": 2
   },
   "file_extension": ".py",
   "mimetype": "text/x-python",
   "name": "python",
   "nbconvert_exporter": "python",
   "pygments_lexer": "ipython2",
   "version": "2.7.15+"
  }
 },
 "nbformat": 4,
 "nbformat_minor": 2
}
