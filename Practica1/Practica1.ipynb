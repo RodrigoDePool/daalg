{
 "cells": [
  {
   "cell_type": "markdown",
   "metadata": {},
   "source": [
    "# Práctica 1\n",
    "---"
   ]
  },
  {
   "cell_type": "code",
   "execution_count": 6,
   "metadata": {},
   "outputs": [
    {
     "name": "stdout",
     "output_type": "stream",
     "text": [
      "The autoreload extension is already loaded. To reload it, use:\n",
      "  %reload_ext autoreload\n"
     ]
    }
   ],
   "source": [
    "%matplotlib inline\n",
    "%load_ext autoreload\n",
    "%autoreload 2"
   ]
  },
  {
   "cell_type": "code",
   "execution_count": 46,
   "metadata": {},
   "outputs": [],
   "source": [
    "import sys\n",
    "import time\n",
    "import matplotlib.pyplot as plt\n",
    "import random\n",
    "import numpy as np\n",
    "import pickle\n",
    "import gzip\n",
    "import os"
   ]
  },
  {
   "cell_type": "code",
   "execution_count": 34,
   "metadata": {},
   "outputs": [],
   "source": [
    "def rand_matr_pos_graph(n_nodes, sparse_factor, max_weight=50, decimals=0):\n",
    "    graph = [[np.inf for i in range(0,n_nodes)] for j in range(0,n_nodes)]\n",
    "    for i in range(0,n_nodes):\n",
    "        for j in range(0,n_nodes):\n",
    "            if i!=j and random.random()<=sparse_factor:\n",
    "                graph[i][j] = random.randint(1,max_weight)\n",
    "    return graph\n",
    "\n",
    "\n",
    "def cuenta_ramas(m_g):\n",
    "    l=0\n",
    "    for i in range(0, len(m_g)):\n",
    "        for j in range(0, len(m_g)):\n",
    "            if m_g[i][j]<float('inf'):\n",
    "                l += 1\n",
    "    return l\n",
    "\n",
    "\n",
    "def calculate_sparse_factor(g):\n",
    "    return (cuenta_ramas(g))/(len(g)*(len(g)-1.0))\n",
    "\n",
    "\n",
    "def check_sparse_factor(n_grafos, n_nodes, sparse_factor):\n",
    "    values = [calculate_sparse_factor(rand_matr_pos_graph(n_nodes,sparse_factor)) for i in range(0, n_grafos)]\n",
    "    return sum(values)/(n_grafos)"
   ]
  },
  {
   "cell_type": "code",
   "execution_count": 36,
   "metadata": {},
   "outputs": [
    {
     "data": {
      "text/plain": [
       "0.8523684210526316"
      ]
     },
     "execution_count": 36,
     "metadata": {},
     "output_type": "execute_result"
    }
   ],
   "source": [
    "check_sparse_factor(20, 20, 0.85)"
   ]
  },
  {
   "cell_type": "code",
   "execution_count": 64,
   "metadata": {
    "collapsed": true
   },
   "outputs": [],
   "source": [
    "def m_g_2_d_g(m_g):\n",
    "    graph = {}\n",
    "    for i in range(0,len(m_g)):\n",
    "        graph[i] = {}\n",
    "        for j in range(0, len(m_g)):\n",
    "            if m_g[i][j] < np.inf:\n",
    "                graph[i][j] = m_g[i][j]\n",
    "    return graph\n",
    "\n",
    "\n",
    "def d_g_2_m_g(d_g):\n",
    "    graph = [[np.inf for i in range(0,len(d_g))] for j in range(0,len(d_g))]\n",
    "    for v1 in d_g:\n",
    "        for v2 in d_g[v1]:\n",
    "            graph[v1][v2] = d_g[v1][v2]\n",
    "    return graph"
   ]
  },
  {
   "cell_type": "code",
   "execution_count": 50,
   "metadata": {},
   "outputs": [],
   "source": [
    "def save_object(obj, f_name='obj.pklz', save_path='.'):\n",
    "    complete_name = os.path.join(save_path, f_name)\n",
    "    with gzip.open(complete_name) as f:\n",
    "        f.write(pickle.dump(obj))\n",
    "        \n",
    "        \n",
    "def read_object(f_name, save_path='.'):\n",
    "    complete_name = os.path.join(save_path, f_name)\n",
    "    obj = None\n",
    "    with gzip.open(complete_name) as f:\n",
    "        obj = pickle.load(f.read())\n",
    "    return obj"
   ]
  },
  {
   "cell_type": "code",
   "execution_count": 98,
   "metadata": {},
   "outputs": [
    {
     "data": {
      "text/plain": [
       "<filter at 0x7f1e314d7c18>"
      ]
     },
     "execution_count": 98,
     "metadata": {},
     "output_type": "execute_result"
    }
   ],
   "source": [
    "f = lambda x: x=='\\n'\n",
    "filter(f,'asdf\\n')"
   ]
  },
  {
   "cell_type": "code",
   "execution_count": 99,
   "metadata": {
    "collapsed": true
   },
   "outputs": [],
   "source": [
    "# Trivial Graph Format (TGF)\n",
    "def d_g_2_TGF(d_g, f_name):\n",
    "    out = ''\n",
    "    for v1 in d_g:\n",
    "        out += str(v1)+'\\n'\n",
    "    out += '#\\n'\n",
    "    for v1 in d_g:\n",
    "        for v2 in d_g[v1]:\n",
    "            out += str(v1)+' '+str(v2)+' '+str(d_g[v1][v2])+'\\n'\n",
    "    with open(f_name,'w') as f:\n",
    "        f.write(out)\n",
    "# TODO: ESTO NO FUNCIONA FALTA ARREGLARLO (NO SE SI NO FUNCIONA LO ANTERIOR TAN POCO)        \n",
    "def TGF_2_d_g(f_name):\n",
    "    with open(f_name) as f:\n",
    "        tgf = f.read()\n",
    "    nodes, edges = tgf.split('#')\n",
    "    edges = edges.split('\\n')\n",
    "    graph = {}\n",
    "    for node in nodes:\n",
    "        node = node.split('\\n')[0]\n",
    "        print(node)\n",
    "        graph[int(node)] = {}\n",
    "    for v1, v2, weight in edges:\n",
    "        graph[int(v1)][int(v2)] = float(weight)\n",
    "    return graph"
   ]
  },
  {
   "cell_type": "code",
   "execution_count": 100,
   "metadata": {},
   "outputs": [
    {
     "name": "stdout",
     "output_type": "stream",
     "text": [
      "0\n",
      "\n"
     ]
    },
    {
     "ename": "ValueError",
     "evalue": "invalid literal for int() with base 10: ''",
     "output_type": "error",
     "traceback": [
      "\u001b[0;31m---------------------------------------------------------------------------\u001b[0m",
      "\u001b[0;31mValueError\u001b[0m                                Traceback (most recent call last)",
      "\u001b[0;32m<ipython-input-100-1ba2f9817f32>\u001b[0m in \u001b[0;36m<module>\u001b[0;34m()\u001b[0m\n\u001b[1;32m      1\u001b[0m \u001b[0md_g_2_TGF\u001b[0m\u001b[0;34m(\u001b[0m\u001b[0mm_g_2_d_g\u001b[0m\u001b[0;34m(\u001b[0m\u001b[0mrand_matr_pos_graph\u001b[0m\u001b[0;34m(\u001b[0m\u001b[0;36m100\u001b[0m\u001b[0;34m,\u001b[0m\u001b[0;36m0.5\u001b[0m\u001b[0;34m)\u001b[0m\u001b[0;34m)\u001b[0m\u001b[0;34m,\u001b[0m\u001b[0;34m'a'\u001b[0m\u001b[0;34m)\u001b[0m\u001b[0;34m\u001b[0m\u001b[0m\n\u001b[0;32m----> 2\u001b[0;31m \u001b[0mTGF_2_d_g\u001b[0m\u001b[0;34m(\u001b[0m\u001b[0;34m'a'\u001b[0m\u001b[0;34m)\u001b[0m\u001b[0;34m\u001b[0m\u001b[0m\n\u001b[0m",
      "\u001b[0;32m<ipython-input-99-b648894314cc>\u001b[0m in \u001b[0;36mTGF_2_d_g\u001b[0;34m(f_name)\u001b[0m\n\u001b[1;32m     21\u001b[0m         \u001b[0mnode\u001b[0m \u001b[0;34m=\u001b[0m \u001b[0mnode\u001b[0m\u001b[0;34m.\u001b[0m\u001b[0msplit\u001b[0m\u001b[0;34m(\u001b[0m\u001b[0;34m'\\n'\u001b[0m\u001b[0;34m)\u001b[0m\u001b[0;34m[\u001b[0m\u001b[0;36m0\u001b[0m\u001b[0;34m]\u001b[0m\u001b[0;34m\u001b[0m\u001b[0m\n\u001b[1;32m     22\u001b[0m         \u001b[0mprint\u001b[0m\u001b[0;34m(\u001b[0m\u001b[0mnode\u001b[0m\u001b[0;34m)\u001b[0m\u001b[0;34m\u001b[0m\u001b[0m\n\u001b[0;32m---> 23\u001b[0;31m         \u001b[0mgraph\u001b[0m\u001b[0;34m[\u001b[0m\u001b[0mint\u001b[0m\u001b[0;34m(\u001b[0m\u001b[0mnode\u001b[0m\u001b[0;34m)\u001b[0m\u001b[0;34m]\u001b[0m \u001b[0;34m=\u001b[0m \u001b[0;34m{\u001b[0m\u001b[0;34m}\u001b[0m\u001b[0;34m\u001b[0m\u001b[0m\n\u001b[0m\u001b[1;32m     24\u001b[0m     \u001b[0;32mfor\u001b[0m \u001b[0mv1\u001b[0m\u001b[0;34m,\u001b[0m \u001b[0mv2\u001b[0m\u001b[0;34m,\u001b[0m \u001b[0mweight\u001b[0m \u001b[0;32min\u001b[0m \u001b[0medges\u001b[0m\u001b[0;34m:\u001b[0m\u001b[0;34m\u001b[0m\u001b[0m\n\u001b[1;32m     25\u001b[0m         \u001b[0mgraph\u001b[0m\u001b[0;34m[\u001b[0m\u001b[0mint\u001b[0m\u001b[0;34m(\u001b[0m\u001b[0mv1\u001b[0m\u001b[0;34m)\u001b[0m\u001b[0;34m]\u001b[0m\u001b[0;34m[\u001b[0m\u001b[0mint\u001b[0m\u001b[0;34m(\u001b[0m\u001b[0mv2\u001b[0m\u001b[0;34m)\u001b[0m\u001b[0;34m]\u001b[0m \u001b[0;34m=\u001b[0m \u001b[0mfloat\u001b[0m\u001b[0;34m(\u001b[0m\u001b[0mweight\u001b[0m\u001b[0;34m)\u001b[0m\u001b[0;34m\u001b[0m\u001b[0m\n",
      "\u001b[0;31mValueError\u001b[0m: invalid literal for int() with base 10: ''"
     ]
    }
   ],
   "source": [
    "d_g_2_TGF(m_g_2_d_g(rand_matr_pos_graph(100,0.5)),'a')\n",
    "TGF_2_d_g('a')"
   ]
  }
 ],
 "metadata": {
  "kernelspec": {
   "display_name": "Python 3",
   "language": "python",
   "name": "python3"
  },
  "language_info": {
   "codemirror_mode": {
    "name": "ipython",
    "version": 3
   },
   "file_extension": ".py",
   "mimetype": "text/x-python",
   "name": "python",
   "nbconvert_exporter": "python",
   "pygments_lexer": "ipython3",
   "version": "3.6.3"
  }
 },
 "nbformat": 4,
 "nbformat_minor": 2
}
