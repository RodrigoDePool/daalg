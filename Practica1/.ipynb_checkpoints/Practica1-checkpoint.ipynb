{
 "cells": [
  {
   "cell_type": "markdown",
   "metadata": {},
   "source": [
    "# Práctica 1\n",
    "---"
   ]
  },
  {
   "cell_type": "code",
   "execution_count": 1,
   "metadata": {
    "collapsed": true
   },
   "outputs": [],
   "source": [
    "%matplotlib inline\n",
    "%load_ext autoreload\n",
    "%autoreload 2"
   ]
  },
  {
   "cell_type": "code",
   "execution_count": 2,
   "metadata": {
    "collapsed": true
   },
   "outputs": [],
   "source": [
    "import sys\n",
    "import time\n",
    "import matplotlib.pyplot as plt\n",
    "import random\n",
    "import numpy as np\n",
    "import pickle\n",
    "import gzip\n",
    "import os"
   ]
  },
  {
   "cell_type": "code",
   "execution_count": 3,
   "metadata": {
    "collapsed": true
   },
   "outputs": [],
   "source": [
    "def rand_matr_pos_graph(n_nodes, sparse_factor, max_weight=50, decimals=0):\n",
    "    graph = [[np.inf for i in range(0,n_nodes)] for j in range(0,n_nodes)]\n",
    "    for i in range(0,n_nodes):\n",
    "        for j in range(0,n_nodes):\n",
    "            if i!=j and random.random()<=sparse_factor:\n",
    "                graph[i][j] = random.randint(1,max_weight)\n",
    "    return graph\n",
    "\n",
    "\n",
    "def cuenta_ramas(m_g):\n",
    "    l=0\n",
    "    for i in range(0, len(m_g)):\n",
    "        for j in range(0, len(m_g)):\n",
    "            if m_g[i][j]<float('inf'):\n",
    "                l += 1\n",
    "    return l\n",
    "\n",
    "\n",
    "def calculate_sparse_factor(g):\n",
    "    return (cuenta_ramas(g))/(len(g)*(len(g)-1.0))\n",
    "\n",
    "\n",
    "def check_sparse_factor(n_grafos, n_nodes, sparse_factor):\n",
    "    values = [calculate_sparse_factor(rand_matr_pos_graph(n_nodes,sparse_factor)) for i in range(0, n_grafos)]\n",
    "    return sum(values)/(n_grafos)"
   ]
  },
  {
   "cell_type": "code",
   "execution_count": 4,
   "metadata": {},
   "outputs": [
    {
     "data": {
      "text/plain": [
       "0.8531578947368421"
      ]
     },
     "execution_count": 4,
     "metadata": {},
     "output_type": "execute_result"
    }
   ],
   "source": [
    "check_sparse_factor(20, 20, 0.85)"
   ]
  },
  {
   "cell_type": "code",
   "execution_count": 5,
   "metadata": {
    "collapsed": true
   },
   "outputs": [],
   "source": [
    "def m_g_2_d_g(m_g):\n",
    "    graph = {}\n",
    "    for i in range(0,len(m_g)):\n",
    "        graph[i] = {}\n",
    "        for j in range(0, len(m_g)):\n",
    "            if m_g[i][j] < np.inf:\n",
    "                graph[i][j] = m_g[i][j]\n",
    "    return graph\n",
    "\n",
    "\n",
    "def d_g_2_m_g(d_g):\n",
    "    graph = [[np.inf for i in range(0,len(d_g))] for j in range(0,len(d_g))]\n",
    "    for v1 in d_g:\n",
    "        for v2 in d_g[v1]:\n",
    "            graph[v1][v2] = d_g[v1][v2]\n",
    "    return graph"
   ]
  },
  {
   "cell_type": "code",
   "execution_count": 6,
   "metadata": {
    "collapsed": true
   },
   "outputs": [],
   "source": [
    "def save_object(obj, f_name='obj.pklz', save_path='.'):\n",
    "    complete_name = os.path.join(save_path, f_name)\n",
    "    with gzip.open(complete_name) as f:\n",
    "        f.write(pickle.dump(obj))\n",
    "        \n",
    "        \n",
    "def read_object(f_name, save_path='.'):\n",
    "    complete_name = os.path.join(save_path, f_name)\n",
    "    obj = None\n",
    "    with gzip.open(complete_name) as f:\n",
    "        obj = pickle.load(f.read())\n",
    "    return obj"
   ]
  },
  {
   "cell_type": "code",
   "execution_count": 27,
   "metadata": {},
   "outputs": [],
   "source": [
    "# Trivial Graph Format (TGF)\n",
    "def d_g_2_TGF(d_g, f_name):\n",
    "    out = ''\n",
    "    for v1 in d_g:\n",
    "        out += str(v1)+'\\n'\n",
    "    out += '#\\n'\n",
    "    for v1 in d_g:\n",
    "        for v2 in d_g[v1]:\n",
    "            out += str(v1)+' '+str(v2)+' '+str(d_g[v1][v2])+'\\n'\n",
    "    with open(f_name,'w') as f:\n",
    "        f.write(out)        \n",
    "        \n",
    "\n",
    "def TGF_2_d_g(f_name):\n",
    "    with open(f_name) as f:\n",
    "        tgf = f.read()\n",
    "    nodes, edges = tgf.split('#\\n')\n",
    "    nodes = nodes.split('\\n')[:-1] # Last is empty\n",
    "    edges = list(map(lambda x: x.split(' '), edges.split('\\n')[:-1]))\n",
    "    graph = {}\n",
    "    for node in nodes:\n",
    "        graph[int(node)] = {}\n",
    "    for v1, v2, weight in edges:\n",
    "        graph[int(v1)][int(v2)] = float(weight)\n",
    "    return graph"
   ]
  },
  {
   "cell_type": "code",
   "execution_count": 56,
   "metadata": {
    "collapsed": true
   },
   "outputs": [],
   "source": [
    "# DIJKSTRA!\n",
    "from queue import PriorityQueue\n",
    "\n",
    "def dijkstra_d(d_g, u):\n",
    "    dist = {}\n",
    "    prev = {}\n",
    "    visited = {}\n",
    "    for ele in d_g:\n",
    "        dist[ele] = np.inf\n",
    "        prev[ele] = -1\n",
    "        visited[ele] = False\n",
    "    q = PriorityQueue()\n",
    "    dist[u] = 0\n",
    "    q.put((0, u))\n",
    "    while not q.empty():\n",
    "        w, curr = q.get()\n",
    "        if not visited[curr]:\n",
    "            visited[curr] = True\n",
    "            for node in d_g[curr]:\n",
    "                if d_g[curr][node]+w < dist[node]:\n",
    "                    dist[node] = d_g[curr][node]+w\n",
    "                    prev[node] = curr\n",
    "                    q.put((dist[node], node))\n",
    "    return dist, prev\n",
    "    \n",
    "    \n",
    "def dijkstra_m(m_g, u):\n",
    "    dist = {}\n",
    "    prev = {}\n",
    "    visited = {}\n",
    "    for ele in range(len(m_g)):\n",
    "        dist[ele] = np.inf\n",
    "        prev[ele] = -1\n",
    "        visited[ele] = False\n",
    "    q = PriorityQueue()\n",
    "    dist[u] = 0\n",
    "    q.put((0, u))\n",
    "    while not q.empty():\n",
    "        w, curr = q.get()\n",
    "        if not visited[curr]:\n",
    "            visited[curr] = True\n",
    "            for node in range(len(m_g[curr])):\n",
    "                if m_g[curr][node]+w < dist[node]:\n",
    "                    dist[node] = m_g[curr][node]+w\n",
    "                    prev[node] = curr\n",
    "                    q.put((dist[node], node))\n",
    "    return dist, prev\n",
    "\n",
    "\n",
    "def min_path(d_prev, v):\n",
    "    if d_prev[v]<0:\n",
    "        return [] # There is no path\n",
    "    path = [v]\n",
    "    while d_prev[v]>=0:\n",
    "        v = d_prev[v]\n",
    "        path.append(v)\n",
    "    path.reverse()\n",
    "    return path    \n",
    "    \n",
    "def min_paths(d_prev):\n",
    "    d_path = {}\n",
    "    for ele in d_prev:\n",
    "        d_path[ele] = min_path(d_prev, ele)\n",
    "    return d_path"
   ]
  },
  {
   "cell_type": "code",
   "execution_count": 70,
   "metadata": {},
   "outputs": [
    {
     "data": {
      "text/plain": [
       "1570124341.07188"
      ]
     },
     "execution_count": 70,
     "metadata": {},
     "output_type": "execute_result"
    }
   ],
   "source": [
    "import time\n",
    "time.time()"
   ]
  },
  {
   "cell_type": "code",
   "execution_count": 76,
   "metadata": {},
   "outputs": [],
   "source": [
    "from time import time\n",
    "\n",
    "\n",
    "def time_dijkstra(n_graphs, n_nodes_ini, n_nodes_fin, step, generate, dijks, sparse_factor=.25):\n",
    "    times = [] # Returning list\n",
    "    for nodes in range(n_nodes_ini, n_nodes_fin, step):\n",
    "        totalTime = 0\n",
    "        for _ in range(n_graphs):\n",
    "            for i in range(nodes):\n",
    "                graph = generate(nodes, sparse_factor) \n",
    "                time_ini = time()\n",
    "                dijks(graph,i)\n",
    "                totalTime += (time()-time_ini)\n",
    "        times.append(totalTime)\n",
    "    return times\n",
    "    \n",
    "    \n",
    "def time_dijkstra_m(n_graphs, n_nodes_ini, n_nodes_fin, step, sparse_factor=.25):\n",
    "    return time_dijkstra(n_graphs, n_nodes_ini, n_nodes_fin, step, rand_matr_pos_graph, dijkstra_m, sparse_factor=sparse_factor)\n",
    "    \n",
    "    \n",
    "def time_dijkstra_d(n_graphs, n_nodes_ini, n_nodes_fin, step, sparse_factor=.25):\n",
    "    f = lambda x,y: m_g_2_d_g(rand_matr_pos_graph(x,y))\n",
    "    return time_dijkstra(n_graphs, n_nodes_ini, n_nodes_fin, step, f, dijkstra_d, sparse_factor=sparse_factor)\n"
   ]
  },
  {
   "cell_type": "code",
   "execution_count": 77,
   "metadata": {},
   "outputs": [
    {
     "name": "stdout",
     "output_type": "stream",
     "text": [
      "[0.006848812103271484, 0.038503408432006836, 0.10053634643554688, 0.1988387107849121, 0.3516194820404053, 0.5591309070587158, 0.8591921329498291, 1.1748015880584717, 1.6360313892364502]\n",
      "[0.005495548248291016, 0.028208494186401367, 0.07680511474609375, 0.15475845336914062, 0.25938868522644043, 0.4020664691925049, 0.5801692008972168, 0.801760196685791, 1.0704381465911865]\n"
     ]
    }
   ],
   "source": [
    "print(time_dijkstra_m(10,10, 100, 10))\n",
    "print(time_dijkstra_d(10,10, 100, 10))"
   ]
  }
 ],
 "metadata": {
  "kernelspec": {
   "display_name": "Python 3",
   "language": "python",
   "name": "python3"
  },
  "language_info": {
   "codemirror_mode": {
    "name": "ipython",
    "version": 3
   },
   "file_extension": ".py",
   "mimetype": "text/x-python",
   "name": "python",
   "nbconvert_exporter": "python",
   "pygments_lexer": "ipython3",
   "version": "3.6.3"
  }
 },
 "nbformat": 4,
 "nbformat_minor": 2
}
