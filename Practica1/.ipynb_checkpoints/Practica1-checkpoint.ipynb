{
 "cells": [
  {
   "cell_type": "markdown",
   "metadata": {},
   "source": [
    "# Práctica 1\n",
    "---"
   ]
  },
  {
   "cell_type": "code",
   "execution_count": 82,
   "metadata": {},
   "outputs": [
    {
     "name": "stdout",
     "output_type": "stream",
     "text": [
      "The autoreload extension is already loaded. To reload it, use:\n",
      "  %reload_ext autoreload\n"
     ]
    }
   ],
   "source": [
    "%matplotlib inline\n",
    "%load_ext autoreload\n",
    "%autoreload 2"
   ]
  },
  {
   "cell_type": "code",
   "execution_count": 83,
   "metadata": {
    "collapsed": true
   },
   "outputs": [],
   "source": [
    "import sys\n",
    "import time\n",
    "import matplotlib.pyplot as plt\n",
    "import random\n",
    "import numpy as np\n",
    "import pickle\n",
    "import gzip\n",
    "import os\n",
    "\n",
    "from sklearn.linear_model import LinearRegression\n",
    "\n",
    "import networkx as nx"
   ]
  },
  {
   "cell_type": "code",
   "execution_count": 84,
   "metadata": {
    "collapsed": true
   },
   "outputs": [],
   "source": [
    "def rand_matr_pos_graph(n_nodes, sparse_factor, max_weight=50, decimals=0):\n",
    "    graph = [[np.inf for i in range(0,n_nodes)] for j in range(0,n_nodes)]\n",
    "    for i in range(0,n_nodes):\n",
    "        for j in range(0,n_nodes):\n",
    "            if i!=j and random.random()<=sparse_factor:\n",
    "                graph[i][j] = random.randint(1,max_weight)\n",
    "    return graph\n",
    "\n",
    "\n",
    "def cuenta_ramas(m_g):\n",
    "    l=0\n",
    "    for i in range(0, len(m_g)):\n",
    "        for j in range(0, len(m_g)):\n",
    "            if m_g[i][j]<float('inf'):\n",
    "                l += 1\n",
    "    return l\n",
    "\n",
    "\n",
    "def calculate_sparse_factor(g):\n",
    "    return (cuenta_ramas(g))/(len(g)*(len(g)-1.0))\n",
    "\n",
    "\n",
    "def check_sparse_factor(n_grafos, n_nodes, sparse_factor):\n",
    "    values = [calculate_sparse_factor(rand_matr_pos_graph(n_nodes,sparse_factor)) for i in range(0, n_grafos)]\n",
    "    return sum(values)/(n_grafos)"
   ]
  },
  {
   "cell_type": "code",
   "execution_count": 85,
   "metadata": {},
   "outputs": [
    {
     "data": {
      "text/plain": [
       "0.8461842105263158"
      ]
     },
     "execution_count": 85,
     "metadata": {},
     "output_type": "execute_result"
    }
   ],
   "source": [
    "check_sparse_factor(20, 20, 0.85)"
   ]
  },
  {
   "cell_type": "code",
   "execution_count": 86,
   "metadata": {
    "collapsed": true
   },
   "outputs": [],
   "source": [
    "def m_g_2_d_g(m_g):\n",
    "    graph = {}\n",
    "    for i in range(0,len(m_g)):\n",
    "        graph[i] = {}\n",
    "        for j in range(0, len(m_g)):\n",
    "            if m_g[i][j] < np.inf:\n",
    "                graph[i][j] = m_g[i][j]\n",
    "    return graph\n",
    "\n",
    "\n",
    "def d_g_2_m_g(d_g):\n",
    "    graph = [[np.inf for i in range(0,len(d_g))] for j in range(0,len(d_g))]\n",
    "    for v1 in d_g:\n",
    "        for v2 in d_g[v1]:\n",
    "            graph[v1][v2] = d_g[v1][v2]\n",
    "    return graph"
   ]
  },
  {
   "cell_type": "code",
   "execution_count": 87,
   "metadata": {
    "collapsed": true
   },
   "outputs": [],
   "source": [
    "def save_object(obj, f_name='obj.pklz', save_path='.'):\n",
    "    complete_name = os.path.join(save_path, f_name)\n",
    "    with gzip.open(complete_name) as f:\n",
    "        f.write(pickle.dump(obj))\n",
    "        \n",
    "        \n",
    "def read_object(f_name, save_path='.'):\n",
    "    complete_name = os.path.join(save_path, f_name)\n",
    "    obj = None\n",
    "    with gzip.open(complete_name) as f:\n",
    "        obj = pickle.load(f.read())\n",
    "    return obj"
   ]
  },
  {
   "cell_type": "code",
   "execution_count": 88,
   "metadata": {
    "collapsed": true
   },
   "outputs": [],
   "source": [
    "# Trivial Graph Format (TGF)\n",
    "def d_g_2_TGF(d_g, f_name):\n",
    "    out = ''\n",
    "    for v1 in d_g:\n",
    "        out += str(v1)+'\\n'\n",
    "    out += '#\\n'\n",
    "    for v1 in d_g:\n",
    "        for v2 in d_g[v1]:\n",
    "            out += str(v1)+' '+str(v2)+' '+str(d_g[v1][v2])+'\\n'\n",
    "    with open(f_name,'w') as f:\n",
    "        f.write(out)        \n",
    "        \n",
    "\n",
    "def TGF_2_d_g(f_name):\n",
    "    with open(f_name) as f:\n",
    "        tgf = f.read()\n",
    "    nodes, edges = tgf.split('#\\n')\n",
    "    nodes = nodes.split('\\n')[:-1] # Last is empty\n",
    "    edges = list(map(lambda x: x.split(' '), edges.split('\\n')[:-1]))\n",
    "    graph = {}\n",
    "    for node in nodes:\n",
    "        graph[int(node)] = {}\n",
    "    for v1, v2, weight in edges:\n",
    "        graph[int(v1)][int(v2)] = float(weight)\n",
    "    return graph"
   ]
  },
  {
   "cell_type": "code",
   "execution_count": 146,
   "metadata": {
    "collapsed": true
   },
   "outputs": [],
   "source": [
    "# DIJKSTRA!\n",
    "from queue import PriorityQueue\n",
    "\n",
    "def dijkstra_d(d_g, u):\n",
    "    dist = {}\n",
    "    prev = {}\n",
    "    visited = {}\n",
    "    for ele in d_g:\n",
    "        dist[ele] = np.inf\n",
    "        prev[ele] = -1\n",
    "        visited[ele] = False\n",
    "    q = PriorityQueue()\n",
    "    dist[u] = 0\n",
    "    q.put((0, u))\n",
    "    while not q.empty():\n",
    "        w, curr = q.get()\n",
    "        if not visited[curr]:\n",
    "            visited[curr] = True\n",
    "            for node in d_g[curr]:\n",
    "                if d_g[curr][node]+w < dist[node]:\n",
    "                    dist[node] = d_g[curr][node]+w\n",
    "                    prev[node] = curr\n",
    "                    q.put((dist[node], node))\n",
    "    return dist, prev\n",
    "    \n",
    "    \n",
    "def dijkstra_m(m_g, u):\n",
    "    dist = {}\n",
    "    prev = {}\n",
    "    visited = {}\n",
    "    for ele in range(len(m_g)):\n",
    "        dist[ele] = np.inf\n",
    "        prev[ele] = -1\n",
    "        visited[ele] = False\n",
    "    q = PriorityQueue()\n",
    "    dist[u] = 0\n",
    "    q.put((0, u))\n",
    "    while not q.empty():\n",
    "        w, curr = q.get()\n",
    "        if not visited[curr]:\n",
    "            visited[curr] = True\n",
    "            for node in range(len(m_g[curr])):\n",
    "                if m_g[curr][node]+w < dist[node]:\n",
    "                    dist[node] = m_g[curr][node]+w\n",
    "                    prev[node] = curr\n",
    "                    q.put((dist[node], node))\n",
    "    return dist, prev\n",
    "\n",
    "\n",
    "def min_path(d_prev, v):\n",
    "    if d_prev[v]<0:\n",
    "        return [] # There is no path\n",
    "    path = [v]\n",
    "    while d_prev[v]>=0:\n",
    "        v = d_prev[v]\n",
    "        path.append(v)\n",
    "    path.reverse()\n",
    "    return path    \n",
    "    \n",
    "def min_paths(d_prev):\n",
    "    d_path = {}\n",
    "    for ele in d_prev:\n",
    "        d_path[ele] = min_path(d_prev, ele)\n",
    "    return d_path"
   ]
  },
  {
   "cell_type": "code",
   "execution_count": 187,
   "metadata": {
    "collapsed": true
   },
   "outputs": [],
   "source": [
    "from time import time\n",
    "\n",
    "\n",
    "def time_dijkstra(n_graphs, n_nodes_ini, n_nodes_fin, step, generate, dijks, sparse_factor=.25):\n",
    "    times = [] # Returning list\n",
    "    for nodes in range(n_nodes_ini, n_nodes_fin+1, step):\n",
    "        meanTime = 0\n",
    "        for _ in range(n_graphs):\n",
    "            graph = generate(nodes, sparse_factor) \n",
    "            time_ini = time()\n",
    "            for i in range(nodes):\n",
    "                dijks(graph,i)\n",
    "            meanTime += (time()-time_ini)\n",
    "        times.append(meanTime/(n_graphs*nodes))\n",
    "    return times\n",
    "    \n",
    "    \n",
    "def time_dijkstra_m(n_graphs, n_nodes_ini, n_nodes_fin, step, sparse_factor=.25):\n",
    "    return time_dijkstra(n_graphs, n_nodes_ini, n_nodes_fin, step, rand_matr_pos_graph, dijkstra_m, sparse_factor=sparse_factor)\n",
    "    \n",
    "    \n",
    "def time_dijkstra_d(n_graphs, n_nodes_ini, n_nodes_fin, step, sparse_factor=.25):\n",
    "    f = lambda x,y: m_g_2_d_g(rand_matr_pos_graph(x,y))\n",
    "    return time_dijkstra(n_graphs, n_nodes_ini, n_nodes_fin, step, f, dijkstra_d, sparse_factor=sparse_factor)\n"
   ]
  },
  {
   "cell_type": "code",
   "execution_count": 188,
   "metadata": {},
   "outputs": [
    {
     "name": "stdout",
     "output_type": "stream",
     "text": [
      "[0.0001383042335510254, 0.00017061233520507813, 0.00031570990880330405, 0.0004917144775390625, 0.0007189354896545411, 0.0009432927767435709, 0.0011840527398245676, 0.0015858092904090881, 0.001842192014058431, 0.002145193099975586]\n",
      "[4.799842834472656e-05, 0.000140305757522583, 0.000247338612874349, 0.0004408943653106689, 0.0005528616905212402, 0.0006647213300069174, 0.0008937481471470424, 0.0010431453585624695, 0.0013152792718675401, 0.0013840587139129638]\n"
     ]
    }
   ],
   "source": [
    "print(time_dijkstra_m(10,10, 100, 10))\n",
    "print(time_dijkstra_d(10,10, 100, 10))"
   ]
  },
  {
   "cell_type": "code",
   "execution_count": 189,
   "metadata": {
    "collapsed": true
   },
   "outputs": [],
   "source": [
    "def fit_plot(l, func_2_fit, size_ini, size_fin, step, label=None):\n",
    "    l_func_values =[i*func_2_fit(i) for i in range(size_ini, size_fin+1, step)]\n",
    "    \n",
    "    lr_m = LinearRegression()\n",
    "    X = np.array(l_func_values).reshape( len(l_func_values), -1 )\n",
    "    lr_m.fit(X, l)\n",
    "    y_pred = lr_m.predict(X)\n",
    "    if label:\n",
    "        plt.plot(l, '*', y_pred, '-', label=label)\n",
    "        return\n",
    "    plt.plot(l, '*', y_pred, '-')\n",
    "    \n",
    "def n2_log_n(n):\n",
    "    return n**2. * np.log(n)"
   ]
  },
  {
   "cell_type": "code",
   "execution_count": 190,
   "metadata": {},
   "outputs": [],
   "source": [
    "args = [20,10,100,10]"
   ]
  },
  {
   "cell_type": "code",
   "execution_count": 191,
   "metadata": {},
   "outputs": [],
   "source": [
    "x = [x for x in range(args[1],args[2]+1,args[3])]\n",
    "y = time_dijkstra_m(*args,sparse_factor=0.7)\n",
    "y2 = time_dijkstra_d(*args,sparse_factor=0.7)"
   ]
  },
  {
   "cell_type": "code",
   "execution_count": 199,
   "metadata": {},
   "outputs": [
    {
     "data": {
      "text/plain": [
       "<matplotlib.legend.Legend at 0x7ff856a44d68>"
      ]
     },
     "execution_count": 199,
     "metadata": {},
     "output_type": "execute_result"
    },
    {
     "data": {
      "image/png": "[encoded data removed]",
      "text/plain": [
       "<matplotlib.figure.Figure at 0x7ff856a44e10>"
      ]
     },
     "metadata": {},
     "output_type": "display_data"
    }
   ],
   "source": [
    "# Plot fitted\n",
    "fit_plot(y, n2_log_n, *args[1:],label='Matrix')\n",
    "fit_plot(y2, n2_log_n, *args[1:],label='Dict')\n",
    "plt.legend(loc='upper left')\n"
   ]
  },
  {
   "cell_type": "code",
   "execution_count": 193,
   "metadata": {
    "scrolled": true
   },
   "outputs": [
    {
     "data": {
      "image/png": "[encoded data removed]",
      "text/plain": [
       "<matplotlib.figure.Figure at 0x7ff8569d7630>"
      ]
     },
     "metadata": {},
     "output_type": "display_data"
    }
   ],
   "source": [
    "plt.plot(x,y)\n",
    "plt.plot(x,y2)\n",
    "plt.legend(loc='upper left')\n"
   ]
  },
  {
   "cell_type": "markdown",
   "metadata": {},
   "source": [
    "# REVISAR LAS FUNCIONES DE DIJKSTRA PORQUE PARECEN LINEALES Y ESTO ES SOSPECHOSO. Lo puedes comprobar con el dijkstra de nx"
   ]
  },
  {
   "cell_type": "code",
   "execution_count": 194,
   "metadata": {},
   "outputs": [],
   "source": [
    "def edges(d_g):\n",
    "    e = []\n",
    "    for u in d_g:\n",
    "        for v in d_g[u]:\n",
    "            e.append((u,v,d_g[u][v]))\n",
    "    return e\n",
    "\n",
    "\n",
    "def d_g_2_nx_g(d_g):\n",
    "    g = nx.DiGraph()\n",
    "    g.add_weighted_edges_from(edges(d_g))\n",
    "    return g\n",
    "\n",
    "def nx_g_2_d_g(nx_g):\n",
    "    d_g = {}\n",
    "    for u in nx_g:\n",
    "        d_g[u] = {}\n",
    "        for v in nx_g[u]:\n",
    "            d_g[u][v] = nx_g[u][v]['weight']"
   ]
  },
  {
   "cell_type": "code",
   "execution_count": 195,
   "metadata": {},
   "outputs": [],
   "source": [
    "def time_dijkstra_nx(n_graphs, n_nodes_ini, n_nodes_fin, step, sparse_factor=.25):    \n",
    "    f = lambda x,y: d_g_2_nx_g(m_g_2_d_g(rand_matr_pos_graph(x,y)))\n",
    "    return time_dijkstra(n_graphs, n_nodes_ini, n_nodes_fin, step, f, nx.single_source_dijkstra, sparse_factor=sparse_factor)\n"
   ]
  },
  {
   "cell_type": "code",
   "execution_count": 196,
   "metadata": {
    "collapsed": true
   },
   "outputs": [],
   "source": [
    "ynx = time_dijkstra_nx(*args)"
   ]
  },
  {
   "cell_type": "code",
   "execution_count": 197,
   "metadata": {},
   "outputs": [
    {
     "data": {
      "image/png": "[encoded data removed]",
      "text/plain": [
       "<matplotlib.figure.Figure at 0x7ff8569ee5c0>"
      ]
     },
     "metadata": {},
     "output_type": "display_data"
    }
   ],
   "source": [
    "fit_plot(y, n2_log_n, *args[1:],label='Nx')\n"
   ]
  },
  {
   "cell_type": "code",
   "execution_count": null,
   "metadata": {
    "collapsed": true
   },
   "outputs": [],
   "source": []
  }
 ],
 "metadata": {
  "kernelspec": {
   "display_name": "Python 3",
   "language": "python",
   "name": "python3"
  },
  "language_info": {
   "codemirror_mode": {
    "name": "ipython",
    "version": 3
   },
   "file_extension": ".py",
   "mimetype": "text/x-python",
   "name": "python",
   "nbconvert_exporter": "python",
   "pygments_lexer": "ipython3",
   "version": "3.6.3"
  }
 },
 "nbformat": 4,
 "nbformat_minor": 2
}
